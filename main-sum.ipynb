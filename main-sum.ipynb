{
 "cells": [
  {
   "cell_type": "markdown",
   "id": "ff81d014",
   "metadata": {},
   "source": [
    "# Data mining - summarization\n",
    "\n",
    "## Skenario\n",
    "```\n",
    "Dataset: indosum\n",
    "```\n",
    "\n",
    "1. Standard summarize & evaluation"
   ]
  },
  {
   "cell_type": "code",
   "execution_count": 1,
   "id": "fdb80c47",
   "metadata": {},
   "outputs": [],
   "source": [
    "import pickle\n",
    "import tempfile\n",
    "import shutil\n",
    "import os\n",
    "\n",
    "import pandas as pd\n",
    "import networkx as nx\n",
    "import json\n",
    "import matplotlib.pyplot as plt\n",
    "import matplotlib as mpl\n",
    "\n",
    "mpl.rcParams['figure.figsize'] = (5,5)\n",
    "\n",
    "from __future__ import absolute_import\n",
    "from __future__ import division, print_function, unicode_literals\n",
    "\n",
    "import nltk\n",
    "from indosum.models import AbstractSummarizer\n",
    "from indosum.models.unsupervised import *\n",
    "from TextRank4Keyword import *\n",
    "\n",
    "from pprint import pprint\n",
    "from pythonrouge.pythonrouge import Pythonrouge\n",
    "\n",
    "from Sastrawi.StopWordRemover.StopWordRemoverFactory import StopWordRemoverFactory\n",
    "\n",
    "factory1 = StopWordRemoverFactory()\n",
    "stopword = factory1.create_stop_word_remover()\n",
    "# from indosum.create_splits import *\n",
    "# nltk.download('punkt')\n",
    "\n",
    "# https://github.com/miso-belica/sumy"
   ]
  },
  {
   "cell_type": "code",
   "execution_count": 2,
   "id": "34898dbe",
   "metadata": {
    "scrolled": false
   },
   "outputs": [
    {
     "data": {
      "text/plain": [
       "array([1, 1, 1])"
      ]
     },
     "execution_count": 2,
     "metadata": {},
     "output_type": "execute_result"
    }
   ],
   "source": [
    "#nltk.download('punkt')\n",
    "\"\"\"\n",
    "from sumy.parsers.html import HtmlParser\n",
    "from sumy.parsers.plaintext import PlaintextParser\n",
    "from sumy.nlp.tokenizers import Tokenizer\n",
    "from sumy.summarizers.lsa import LsaSummarizer as Summarizer\n",
    "from sumy.nlp.stemmers import Stemmer\n",
    "from sumy.utils import get_stop_words\n",
    "\"\"\"\n",
    "1\n",
    "np.array([1] * 3)"
   ]
  },
  {
   "cell_type": "code",
   "execution_count": 3,
   "id": "bc641f91",
   "metadata": {},
   "outputs": [],
   "source": [
    "# \" \".join(l1)\n",
    "\n",
    "# serialize obj to file\n",
    "def dumpToPickle(obj, fname='file.pkl'):\n",
    "    # Open a file and use dump()\n",
    "    with open(fname, 'wb') as file:\n",
    "        # A new file will be created\n",
    "        pickle.dump(obj, file)\n",
    "\n",
    "def loadPickle(fname):\n",
    "    fo = open(fname, \"rb\")\n",
    "    print(\"Unpickling...\")\n",
    "    # Unpickle the objects\n",
    "    return pickle.load(fo)\n",
    "\n",
    "# paragraph p, sentence s, word w\n",
    "def paragraphToPlain(l1):\n",
    "    text = \"\"\n",
    "    for p in l1:\n",
    "        par = \"\"\n",
    "        for s in p:\n",
    "            se = \"\"\n",
    "            for w in s:\n",
    "                se += w + \" \"\n",
    "            par += se+\" \"\n",
    "        text += par\n",
    "    return text\n",
    "\n",
    "def read_jsonl(path, name='test', encoding='utf-8', lower=True, remove_puncts=True,\n",
    "               replace_digits=True, stopwords_path=None):\n",
    "#     _log.info('Reading %s JSONL file from %s', name, path)\n",
    "#     if SAVE_FILES:\n",
    "#         _run.add_resource(path)\n",
    "    stopwords = None if stopwords_path is None else read_stopwords(stopwords_path)\n",
    "\n",
    "    with open(path, encoding=encoding) as f:\n",
    "        for line in f:\n",
    "            yield Document.from_mapping(\n",
    "                json.loads(line.strip()), lower=lower, remove_puncts=remove_puncts,\n",
    "                replace_digits=replace_digits, stopwords=stopwords)"
   ]
  },
  {
   "cell_type": "markdown",
   "id": "dffe3556",
   "metadata": {},
   "source": [
    "## 1. Data"
   ]
  },
  {
   "cell_type": "code",
   "execution_count": 4,
   "id": "f2811694",
   "metadata": {
    "scrolled": true
   },
   "outputs": [
    {
     "data": {
      "text/html": [
       "<div>\n",
       "<style scoped>\n",
       "    .dataframe tbody tr th:only-of-type {\n",
       "        vertical-align: middle;\n",
       "    }\n",
       "\n",
       "    .dataframe tbody tr th {\n",
       "        vertical-align: top;\n",
       "    }\n",
       "\n",
       "    .dataframe thead th {\n",
       "        text-align: right;\n",
       "    }\n",
       "</style>\n",
       "<table border=\"1\" class=\"dataframe\">\n",
       "  <thead>\n",
       "    <tr style=\"text-align: right;\">\n",
       "      <th></th>\n",
       "      <th>category</th>\n",
       "      <th>gold_labels</th>\n",
       "      <th>id</th>\n",
       "      <th>paragraphs</th>\n",
       "      <th>source</th>\n",
       "      <th>source_url</th>\n",
       "      <th>summary</th>\n",
       "    </tr>\n",
       "  </thead>\n",
       "  <tbody>\n",
       "    <tr>\n",
       "      <th>0</th>\n",
       "      <td>tajuk utama</td>\n",
       "      <td>[[False, True], [True, True], [False, False, F...</td>\n",
       "      <td>1501893029-lula-kamal-dokter-ryan-thamrin-saki...</td>\n",
       "      <td>[[[Jakarta, ,, CNN, Indonesia, -, -, Dokter, R...</td>\n",
       "      <td>cnn indonesia</td>\n",
       "      <td>https://www.cnnindonesia.com/hiburan/201708041...</td>\n",
       "      <td>[[Dokter, Lula, Kamal, yang, merupakan, selebr...</td>\n",
       "    </tr>\n",
       "    <tr>\n",
       "      <th>1</th>\n",
       "      <td>teknologi</td>\n",
       "      <td>[[False, False, False, False], [False, True, T...</td>\n",
       "      <td>1509072914-dua-smartphone-zenfone-baru-tawarka...</td>\n",
       "      <td>[[[Selfie, ialah, salah, satu, tema, terpanas,...</td>\n",
       "      <td>dailysocial.id</td>\n",
       "      <td>https://dailysocial.id/post/dua-smartphone-zen...</td>\n",
       "      <td>[[Asus, memperkenalkan,  , ZenFone, generasi, ...</td>\n",
       "    </tr>\n",
       "    <tr>\n",
       "      <th>2</th>\n",
       "      <td>hiburan</td>\n",
       "      <td>[[True], [True], [False, False], [False], [Fal...</td>\n",
       "      <td>1510613677-songsong-visit-2020-bengkulu-perkua...</td>\n",
       "      <td>[[[Jakarta, ,, CNN, Indonesia, -, -, Dinas, Pa...</td>\n",
       "      <td>cnn indonesia</td>\n",
       "      <td>https://www.cnnindonesia.com/gaya-hidup/201711...</td>\n",
       "      <td>[[Dinas, Pariwisata, Provinsi, Bengkulu, kemba...</td>\n",
       "    </tr>\n",
       "    <tr>\n",
       "      <th>3</th>\n",
       "      <td>tajuk utama</td>\n",
       "      <td>[[True, True], [False, False, False], [True], ...</td>\n",
       "      <td>1502706803-icw-ada-kejanggalan-atas-tewasnya-s...</td>\n",
       "      <td>[[[Merdeka.com, -, Indonesia, Corruption, Watc...</td>\n",
       "      <td>merdeka</td>\n",
       "      <td>https://www.merdeka.com/peristiwa/icw-merasa-a...</td>\n",
       "      <td>[[Indonesia, Corruption, Watch, (, ICW, ), mem...</td>\n",
       "    </tr>\n",
       "    <tr>\n",
       "      <th>4</th>\n",
       "      <td>tajuk utama</td>\n",
       "      <td>[[False, True], [True, True, True], [False], [...</td>\n",
       "      <td>1503039338-pembagian-sepeda-usai-upacara-penur...</td>\n",
       "      <td>[[[Merdeka.com, -, Presiden, Joko, Widodo, (, ...</td>\n",
       "      <td>merdeka</td>\n",
       "      <td>https://www.merdeka.com/peristiwa/usai-upacara...</td>\n",
       "      <td>[[Jokowi, memimpin, upacara, penurunan, bender...</td>\n",
       "    </tr>\n",
       "    <tr>\n",
       "      <th>...</th>\n",
       "      <td>...</td>\n",
       "      <td>...</td>\n",
       "      <td>...</td>\n",
       "      <td>...</td>\n",
       "      <td>...</td>\n",
       "      <td>...</td>\n",
       "      <td>...</td>\n",
       "    </tr>\n",
       "    <tr>\n",
       "      <th>95</th>\n",
       "      <td>tajuk utama</td>\n",
       "      <td>[[False, False], [False, False], [False], [Fal...</td>\n",
       "      <td>1484474411-reklamasi-jakarta-untuk-siapa</td>\n",
       "      <td>[[[Jakarta, ,, CNN, Indonesia, -, -, Banjir, y...</td>\n",
       "      <td>cnn indonesia</td>\n",
       "      <td>http://m.cnnindonesia.com/nasional/20170110202...</td>\n",
       "      <td>[[Permasalahan, tenggelamnya, daratan, di, Jak...</td>\n",
       "    </tr>\n",
       "    <tr>\n",
       "      <th>96</th>\n",
       "      <td>showbiz</td>\n",
       "      <td>[[True, True], [True, True], [True, False], [F...</td>\n",
       "      <td>1500161400-selena-gomez-akui-punya-fetish-di-l...</td>\n",
       "      <td>[[[Jakarta, ,, CNN, Indonesia, -, -, Selena, G...</td>\n",
       "      <td>cnn indonesia</td>\n",
       "      <td>https://www.cnnindonesia.com/hiburan/201707131...</td>\n",
       "      <td>[[Selena, Gomez, baru, mengaku, bahwa, dia, me...</td>\n",
       "    </tr>\n",
       "    <tr>\n",
       "      <th>97</th>\n",
       "      <td>teknologi</td>\n",
       "      <td>[[False, False], [False], [False, False], [Tru...</td>\n",
       "      <td>1499749200-angin-meningkatkan-peran-perempuan-...</td>\n",
       "      <td>[[[Permasalahan, masih, minimnya, jumlah, pere...</td>\n",
       "      <td>dailysocial.id</td>\n",
       "      <td>https://dailysocial.id/post/rencana-angin-meni...</td>\n",
       "      <td>[[Angel, Investment, Network, Indonesia, (, AN...</td>\n",
       "    </tr>\n",
       "    <tr>\n",
       "      <th>98</th>\n",
       "      <td>olahraga</td>\n",
       "      <td>[[False, True], [False, False], [False, False]...</td>\n",
       "      <td>1505764276-thailand-raih-juara-piala-aff-u-18-...</td>\n",
       "      <td>[[[Tim, nasional, (, timnas, ), Thailand, berh...</td>\n",
       "      <td>goal indonesia</td>\n",
       "      <td>http://www.goal.com/id-ID/news/1387/nasional/2...</td>\n",
       "      <td>[[Thailand, menaklukkan, Malaysia, dengan, sko...</td>\n",
       "    </tr>\n",
       "    <tr>\n",
       "      <th>99</th>\n",
       "      <td>tajuk utama</td>\n",
       "      <td>[[True, True], [True, True], [True], [False, F...</td>\n",
       "      <td>1498720500-benda-diduga-bom-ditemukan-di-kanto...</td>\n",
       "      <td>[[[Polisi, Pamong, Praja, Kantor, Wali, Kota, ...</td>\n",
       "      <td>kumparan</td>\n",
       "      <td>https://kumparan.com/wisnu-prasetyo/benda-didu...</td>\n",
       "      <td>[[Polisi, Pamong, Praja, Kantor, Wali, Kota, K...</td>\n",
       "    </tr>\n",
       "  </tbody>\n",
       "</table>\n",
       "<p>100 rows × 7 columns</p>\n",
       "</div>"
      ],
      "text/plain": [
       "       category                                        gold_labels  \\\n",
       "0   tajuk utama  [[False, True], [True, True], [False, False, F...   \n",
       "1     teknologi  [[False, False, False, False], [False, True, T...   \n",
       "2       hiburan  [[True], [True], [False, False], [False], [Fal...   \n",
       "3   tajuk utama  [[True, True], [False, False, False], [True], ...   \n",
       "4   tajuk utama  [[False, True], [True, True, True], [False], [...   \n",
       "..          ...                                                ...   \n",
       "95  tajuk utama  [[False, False], [False, False], [False], [Fal...   \n",
       "96      showbiz  [[True, True], [True, True], [True, False], [F...   \n",
       "97    teknologi  [[False, False], [False], [False, False], [Tru...   \n",
       "98     olahraga  [[False, True], [False, False], [False, False]...   \n",
       "99  tajuk utama  [[True, True], [True, True], [True], [False, F...   \n",
       "\n",
       "                                                   id  \\\n",
       "0   1501893029-lula-kamal-dokter-ryan-thamrin-saki...   \n",
       "1   1509072914-dua-smartphone-zenfone-baru-tawarka...   \n",
       "2   1510613677-songsong-visit-2020-bengkulu-perkua...   \n",
       "3   1502706803-icw-ada-kejanggalan-atas-tewasnya-s...   \n",
       "4   1503039338-pembagian-sepeda-usai-upacara-penur...   \n",
       "..                                                ...   \n",
       "95           1484474411-reklamasi-jakarta-untuk-siapa   \n",
       "96  1500161400-selena-gomez-akui-punya-fetish-di-l...   \n",
       "97  1499749200-angin-meningkatkan-peran-perempuan-...   \n",
       "98  1505764276-thailand-raih-juara-piala-aff-u-18-...   \n",
       "99  1498720500-benda-diduga-bom-ditemukan-di-kanto...   \n",
       "\n",
       "                                           paragraphs          source  \\\n",
       "0   [[[Jakarta, ,, CNN, Indonesia, -, -, Dokter, R...   cnn indonesia   \n",
       "1   [[[Selfie, ialah, salah, satu, tema, terpanas,...  dailysocial.id   \n",
       "2   [[[Jakarta, ,, CNN, Indonesia, -, -, Dinas, Pa...   cnn indonesia   \n",
       "3   [[[Merdeka.com, -, Indonesia, Corruption, Watc...         merdeka   \n",
       "4   [[[Merdeka.com, -, Presiden, Joko, Widodo, (, ...         merdeka   \n",
       "..                                                ...             ...   \n",
       "95  [[[Jakarta, ,, CNN, Indonesia, -, -, Banjir, y...   cnn indonesia   \n",
       "96  [[[Jakarta, ,, CNN, Indonesia, -, -, Selena, G...   cnn indonesia   \n",
       "97  [[[Permasalahan, masih, minimnya, jumlah, pere...  dailysocial.id   \n",
       "98  [[[Tim, nasional, (, timnas, ), Thailand, berh...  goal indonesia   \n",
       "99  [[[Polisi, Pamong, Praja, Kantor, Wali, Kota, ...        kumparan   \n",
       "\n",
       "                                           source_url  \\\n",
       "0   https://www.cnnindonesia.com/hiburan/201708041...   \n",
       "1   https://dailysocial.id/post/dua-smartphone-zen...   \n",
       "2   https://www.cnnindonesia.com/gaya-hidup/201711...   \n",
       "3   https://www.merdeka.com/peristiwa/icw-merasa-a...   \n",
       "4   https://www.merdeka.com/peristiwa/usai-upacara...   \n",
       "..                                                ...   \n",
       "95  http://m.cnnindonesia.com/nasional/20170110202...   \n",
       "96  https://www.cnnindonesia.com/hiburan/201707131...   \n",
       "97  https://dailysocial.id/post/rencana-angin-meni...   \n",
       "98  http://www.goal.com/id-ID/news/1387/nasional/2...   \n",
       "99  https://kumparan.com/wisnu-prasetyo/benda-didu...   \n",
       "\n",
       "                                              summary  \n",
       "0   [[Dokter, Lula, Kamal, yang, merupakan, selebr...  \n",
       "1   [[Asus, memperkenalkan,  , ZenFone, generasi, ...  \n",
       "2   [[Dinas, Pariwisata, Provinsi, Bengkulu, kemba...  \n",
       "3   [[Indonesia, Corruption, Watch, (, ICW, ), mem...  \n",
       "4   [[Jokowi, memimpin, upacara, penurunan, bender...  \n",
       "..                                                ...  \n",
       "95  [[Permasalahan, tenggelamnya, daratan, di, Jak...  \n",
       "96  [[Selena, Gomez, baru, mengaku, bahwa, dia, me...  \n",
       "97  [[Angel, Investment, Network, Indonesia, (, AN...  \n",
       "98  [[Thailand, menaklukkan, Malaysia, dengan, sko...  \n",
       "99  [[Polisi, Pamong, Praja, Kantor, Wali, Kota, K...  \n",
       "\n",
       "[100 rows x 7 columns]"
      ]
     },
     "execution_count": 4,
     "metadata": {},
     "output_type": "execute_result"
    }
   ],
   "source": [
    "# jsonObj = pd.read_json(\"/media/data1/_S2/indosum/train.01.jsonl\", lines=True) # 14k rows\n",
    "jsonObj = pd.read_json(\"/media/data1/_S2/indosum/train.01.100.jsonl\", lines=True) # sample\n",
    "jsonObj"
   ]
  },
  {
   "cell_type": "code",
   "execution_count": 5,
   "id": "9e5609cb",
   "metadata": {},
   "outputs": [],
   "source": [
    "path = \"/media/data1/_S2/indosum/train.01.100.jsonl\"\n",
    "docs = read_jsonl(path)\n",
    "ddoc = []\n",
    "for doc in docs:\n",
    "    ddoc.append(doc)"
   ]
  },
  {
   "cell_type": "code",
   "execution_count": 6,
   "id": "610a9a71",
   "metadata": {
    "scrolled": true
   },
   "outputs": [
    {
     "data": {
      "text/plain": [
       "['jakarta',\n",
       " 'cnn',\n",
       " 'indonesia',\n",
       " 'dokter',\n",
       " 'ryan',\n",
       " 'thamrin',\n",
       " 'yang',\n",
       " 'terkenal',\n",
       " 'lewat',\n",
       " 'acara',\n",
       " 'dokter',\n",
       " 'oz',\n",
       " 'indonesia',\n",
       " 'meninggal',\n",
       " 'dunia',\n",
       " 'pada',\n",
       " 'jumat',\n",
       " '0',\n",
       " '0',\n",
       " 'dini',\n",
       " 'hari']"
      ]
     },
     "execution_count": 6,
     "metadata": {},
     "output_type": "execute_result"
    }
   ],
   "source": [
    "ddoc[0].sentences[0].words"
   ]
  },
  {
   "cell_type": "code",
   "execution_count": 7,
   "id": "e7a2d219",
   "metadata": {
    "scrolled": true
   },
   "outputs": [
    {
     "data": {
      "text/plain": [
       "1"
      ]
     },
     "execution_count": 7,
     "metadata": {},
     "output_type": "execute_result"
    }
   ],
   "source": [
    "#jsonObj.describe()\n",
    "1"
   ]
  },
  {
   "cell_type": "code",
   "execution_count": 8,
   "id": "c60935b6",
   "metadata": {},
   "outputs": [
    {
     "data": {
      "text/plain": [
       "0     tajuk utama\n",
       "1       teknologi\n",
       "2         hiburan\n",
       "3     tajuk utama\n",
       "4     tajuk utama\n",
       "         ...     \n",
       "95    tajuk utama\n",
       "96        showbiz\n",
       "97      teknologi\n",
       "98       olahraga\n",
       "99    tajuk utama\n",
       "Name: category, Length: 100, dtype: object"
      ]
     },
     "execution_count": 8,
     "metadata": {},
     "output_type": "execute_result"
    }
   ],
   "source": [
    "jsonObj[\"category\"]"
   ]
  },
  {
   "cell_type": "code",
   "execution_count": 9,
   "id": "1f302777",
   "metadata": {},
   "outputs": [
    {
     "data": {
      "text/plain": [
       "{'antaranews',\n",
       " 'cnn indonesia',\n",
       " 'dailysocial.id',\n",
       " 'goal indonesia',\n",
       " 'juara.net',\n",
       " 'kumparan',\n",
       " 'merdeka',\n",
       " 'poskotanews',\n",
       " 'rimanews',\n",
       " 'suara'}"
      ]
     },
     "execution_count": 9,
     "metadata": {},
     "output_type": "execute_result"
    }
   ],
   "source": [
    "set(jsonObj[\"source\"])"
   ]
  },
  {
   "cell_type": "code",
   "execution_count": 10,
   "id": "9e3b0064",
   "metadata": {},
   "outputs": [
    {
     "data": {
      "text/plain": [
       "{'hiburan', 'olahraga', 'showbiz', 'tajuk utama', 'teknologi'}"
      ]
     },
     "execution_count": 10,
     "metadata": {},
     "output_type": "execute_result"
    }
   ],
   "source": [
    "set(jsonObj[\"category\"])"
   ]
  },
  {
   "cell_type": "code",
   "execution_count": 11,
   "id": "4fcba45e",
   "metadata": {},
   "outputs": [
    {
     "data": {
      "text/plain": [
       "1"
      ]
     },
     "execution_count": 11,
     "metadata": {},
     "output_type": "execute_result"
    }
   ],
   "source": [
    "\"\"\"\n",
    "\n",
    "#jsonObj['paragraphs'][0]\n",
    "p1 = eval(str(jsonObj['paragraphs'][0]))\n",
    "text = paragraphToPlain(p1)\n",
    "text\n",
    "\"\"\"\n",
    "1"
   ]
  },
  {
   "cell_type": "code",
   "execution_count": 12,
   "id": "d4ac25f0",
   "metadata": {
    "scrolled": false
   },
   "outputs": [
    {
     "data": {
      "text/plain": [
       "1"
      ]
     },
     "execution_count": 12,
     "metadata": {},
     "output_type": "execute_result"
    }
   ],
   "source": [
    "# LANGUAGE = \"english\"\n",
    "# SENTENCES_COUNT = 10\n",
    "\n",
    "# sample api = https://github.com/miso-belica/sumy\n",
    "\"\"\"\n",
    "def summarize(string, LANGUAGE = \"english\", SENTENCES_COUNT = 10):\n",
    "    #url = \"https://en.wikipedia.org/wiki/Automatic_summarization\"\n",
    "    #parser = HtmlParser.from_url(url, Tokenizer(LANGUAGE))\n",
    "    # or for plain text files\n",
    "    # parser = PlaintextParser.from_file(\"document.txt\", Tokenizer(LANGUAGE))\n",
    "    parser = PlaintextParser.from_string(string, Tokenizer(LANGUAGE))\n",
    "    stemmer = Stemmer(LANGUAGE)\n",
    "\n",
    "    summarizer = Summarizer(stemmer)\n",
    "    summarizer.stop_words = get_stop_words(LANGUAGE)\n",
    "\n",
    "    sums = []\n",
    "    \n",
    "    for sentence in summarizer(parser.document, SENTENCES_COUNT):\n",
    "        print(sentence)\n",
    "        sums.append(str(sentence))\n",
    "    \n",
    "    return string, sums\n",
    "\"\"\"\n",
    "# summarize(text, LANGUAGE = \"english\", SENTENCES_COUNT = 10)\n",
    "1"
   ]
  },
  {
   "cell_type": "markdown",
   "id": "e4c0e7c7",
   "metadata": {},
   "source": [
    "# 2. Summarization & keyword extraction"
   ]
  },
  {
   "cell_type": "code",
   "execution_count": 13,
   "id": "b1b2c2e1",
   "metadata": {},
   "outputs": [],
   "source": [
    "# mapIndexesToSentences({0,1,3}, [\"a\",\"b\",\"c\",\"d\",\"e\"])\n",
    "def mapIndexesToSentences(idxs, sentences):\n",
    "    return [sentences[i] for i in idxs]\n",
    "\n",
    "def create_model(damping=0.85, tol=1e-6, max_iter=100):\n",
    "    return TextRank(damping_factor=damping, tol=tol, max_iter=max_iter)\n",
    "\n",
    "def run_summarization(model: AbstractSummarizer, path, size=5, withKeywordExtract=False):\n",
    "    results = {\n",
    "        \"doc\": [],\n",
    "        \"summaries\": []\n",
    "    }\n",
    "    models = []\n",
    "    docs = read_jsonl(path)\n",
    "    for doc in docs:\n",
    "        results[\"doc\"].append(doc)\n",
    "        summary = set(model.summarize(doc, size=size))\n",
    "        \n",
    "        # append models\n",
    "        models.append(model)\n",
    "        \n",
    "        sent_id = 0\n",
    "        for para in doc.paragraphs:\n",
    "            for sent in para:\n",
    "                sent.pred_label = sent_id in summary\n",
    "                sent_id += 1\n",
    "        results[\"summaries\"].append({\n",
    "            \"index\": summary,\n",
    "            \"mapped\": mapIndexesToSentences(summary, [str(s) for s in doc.sentences])\n",
    "        })\n",
    "        \n",
    "        # get keyword extraction\n",
    "        \n",
    "        break\n",
    "        #print(json.dumps(doc.to_dict(), sort_keys=True))\n",
    "    return results, docs, models\n",
    "\n",
    "def summarize(path, model = None):\n",
    "    model = create_model() if model==None else create_model()\n",
    "    \n",
    "    return run_summarization(model, path)\n",
    "\n",
    "# evaluate\n",
    "def eval_summaries(summaries, docs, logger=None, encoding='utf-8', delete_temps=True):\n",
    "    references = []\n",
    "    hypotheses = []\n",
    "    for summary, doc in zip(summaries, docs):\n",
    "        refs = [[' '.join(sent) for sent in doc.summary]]\n",
    "        hyp = [' '.join(doc.sentences[idx].words) for idx in summary]\n",
    "        references.append(refs)\n",
    "        hypotheses.append(hyp)\n",
    "\n",
    "    assert len(references) == len(hypotheses), 'Number of references and hypotheses mismatch'\n",
    "\n",
    "    ref_dirname = tempfile.mkdtemp()\n",
    "    hyp_dirname = tempfile.mkdtemp()\n",
    "    \n",
    "    for doc_id, (refs, hyp) in enumerate(zip(references, hypotheses)):\n",
    "        # Write references\n",
    "        for rid, ref in enumerate(refs):\n",
    "            ref_filename = os.path.join(ref_dirname, f'{doc_id}.{rid}.txt')\n",
    "            with open(ref_filename, 'w', encoding=encoding) as f:\n",
    "                print('\\n'.join(ref), file=f)\n",
    "        # Write hypothesis\n",
    "        hyp_filename = os.path.join(hyp_dirname, f'{doc_id}.txt')\n",
    "        with open(hyp_filename, 'w', encoding=encoding) as f:\n",
    "            print('\\n'.join(hyp), file=f)\n",
    "\n",
    "    rouge = Pythonrouge(\n",
    "        peer_path=hyp_dirname, model_path=ref_dirname, stemming=False, ROUGE_L=True,\n",
    "        ROUGE_SU4=False)\n",
    "    score = rouge.calc_score()\n",
    "    print('ROUGE scores: %s', score)\n",
    "\n",
    "    if delete_temps:\n",
    "        print('Deleting temporary files and directories')\n",
    "        shutil.rmtree(ref_dirname)\n",
    "        shutil.rmtree(hyp_dirname)\n",
    "\n",
    "    return score\n",
    "\n",
    "def getKeywords(text, n=10):\n",
    "    tr4w = TextRank4Keyword()\n",
    "    tr4w.analyze(text, candidate_pos = ['NOUN', 'PROPN'], window_size=4, lower=False)\n",
    "    return tr4w.get_keywords(n)"
   ]
  },
  {
   "cell_type": "code",
   "execution_count": 14,
   "id": "9831b9dc",
   "metadata": {
    "scrolled": true
   },
   "outputs": [
    {
     "data": {
      "text/plain": [
       "{'doc': [<indosum.models.data.Document at 0x7fda0cc9d2e0>],\n",
       " 'summaries': [{'index': {0, 1, 2, 8, 15},\n",
       "   'mapped': ['jakarta cnn indonesia dokter ryan thamrin yang terkenal lewat acara dokter oz indonesia meninggal dunia pada jumat 0 0 dini hari\\t\\t\\t0',\n",
       "    'dokter lula kamal yang merupakan selebriti sekaligus rekan kerja ryan menyebut kawannya itu sudah sakit sejak setahun yang lalu\\t\\t\\t1',\n",
       "    'lula menuturkan sakit itu membuat ryan mesti vakum dari semua kegiatannya termasuk menjadi pembawa acara dokter oz indonesia\\t\\t\\t1',\n",
       "    'dia juga tak tahu penyakit apa yang diderita ryan\\t\\t\\t0',\n",
       "    'ryan thamrin terkenal sebagai dokter yang rutin membagikan tips dan informasi kesehatan lewat tayangan dokter oz indonesia\\t\\t\\t0']}]}"
      ]
     },
     "execution_count": 14,
     "metadata": {},
     "output_type": "execute_result"
    }
   ],
   "source": [
    "# p1 = \"/media/data1/_S2/indosum/train.01.jsonl\"\n",
    "p1 = \"/media/data1/_S2/indosum/train.01.100.jsonl\"\n",
    "results, docs, models = summarize(p1)\n",
    "results"
   ]
  },
  {
   "cell_type": "code",
   "execution_count": 15,
   "id": "6c2c555e",
   "metadata": {
    "scrolled": true
   },
   "outputs": [
    {
     "data": {
      "text/plain": [
       "[]"
      ]
     },
     "execution_count": 15,
     "metadata": {},
     "output_type": "execute_result"
    }
   ],
   "source": [
    "results[\"summaries\"][1:3]"
   ]
  },
  {
   "cell_type": "code",
   "execution_count": 16,
   "id": "48e00278",
   "metadata": {
    "scrolled": true
   },
   "outputs": [],
   "source": [
    "indexes = [ l['index'] for l in results[\"summaries\"] ]\n",
    "#indexes"
   ]
  },
  {
   "cell_type": "markdown",
   "id": "27615208",
   "metadata": {},
   "source": [
    "# 3. Evaluation"
   ]
  },
  {
   "cell_type": "code",
   "execution_count": 21,
   "id": "bab2a96d",
   "metadata": {
    "scrolled": false
   },
   "outputs": [
    {
     "name": "stdout",
     "output_type": "stream",
     "text": [
      "ROUGE scores: %s {'ROUGE-1-R': 0.73585, 'ROUGE-1-P': 0.46429, 'ROUGE-1-F': 0.56935, 'ROUGE-2-R': 0.69231, 'ROUGE-2-P': 0.43373, 'ROUGE-2-F': 0.53333, 'ROUGE-L-R': 0.73585, 'ROUGE-L-P': 0.46429, 'ROUGE-L-F': 0.56935}\n",
      "Deleting temporary files and directories\n"
     ]
    },
    {
     "data": {
      "text/plain": [
       "{'ROUGE-1-R': 0.73585,\n",
       " 'ROUGE-1-P': 0.46429,\n",
       " 'ROUGE-1-F': 0.56935,\n",
       " 'ROUGE-2-R': 0.69231,\n",
       " 'ROUGE-2-P': 0.43373,\n",
       " 'ROUGE-2-F': 0.53333,\n",
       " 'ROUGE-L-R': 0.73585,\n",
       " 'ROUGE-L-P': 0.46429,\n",
       " 'ROUGE-L-F': 0.56935}"
      ]
     },
     "execution_count": 21,
     "metadata": {},
     "output_type": "execute_result"
    }
   ],
   "source": [
    "evaluation = eval_summaries(indexes, results[\"doc\"])\n",
    "evaluation"
   ]
  },
  {
   "cell_type": "code",
   "execution_count": 22,
   "id": "032ed3ed",
   "metadata": {},
   "outputs": [],
   "source": [
    "# dump\n",
    "dumpToPickle({\n",
    "    \"results\": results, \n",
    "    #\"docs\": docs, \n",
    "    \"models\": models,\n",
    "    \"evaluation\": evaluation\n",
    "}, '2022-0525-ex-textrank-100.pkl')\n",
    "# }, '2022-0525-ex-textrank.pkl')"
   ]
  },
  {
   "cell_type": "code",
   "execution_count": 25,
   "id": "0b8b0b30",
   "metadata": {},
   "outputs": [
    {
     "name": "stdout",
     "output_type": "stream",
     "text": [
      "Unpickling...\n"
     ]
    }
   ],
   "source": [
    "# load dump\n",
    "# fname = './dummy/2022-0525-ex-textrank.pkl'\n",
    "fname = './dummy/2022-0525-ex-textrank-100.pkl'\n",
    "results = loadPickle(fname)\n",
    "\n",
    "evaluation = results['evaluation']"
   ]
  },
  {
   "cell_type": "code",
   "execution_count": 26,
   "id": "57a828ed",
   "metadata": {},
   "outputs": [
    {
     "data": {
      "text/plain": [
       "dict_keys(['results', 'models', 'evaluation'])"
      ]
     },
     "execution_count": 26,
     "metadata": {},
     "output_type": "execute_result"
    }
   ],
   "source": [
    "results.keys()"
   ]
  },
  {
   "cell_type": "code",
   "execution_count": 27,
   "id": "29f3303b",
   "metadata": {},
   "outputs": [
    {
     "data": {
      "image/png": "[encoded data removed]",
      "text/plain": [
       "<Figure size 864x360 with 1 Axes>"
      ]
     },
     "metadata": {
      "needs_background": "light"
     },
     "output_type": "display_data"
    }
   ],
   "source": [
    "mpl.rcParams['figure.figsize'] = (12,5)\n",
    "plt.bar(evaluation.keys(), evaluation.values(), width=0.8)\n",
    "plt.show()"
   ]
  },
  {
   "cell_type": "code",
   "execution_count": 28,
   "id": "c5ac36ef",
   "metadata": {},
   "outputs": [
    {
     "data": {
      "text/plain": [
       "dict_keys(['doc', 'summaries'])"
      ]
     },
     "execution_count": 28,
     "metadata": {},
     "output_type": "execute_result"
    }
   ],
   "source": [
    "results['results'].keys()"
   ]
  },
  {
   "cell_type": "code",
   "execution_count": 29,
   "id": "c2cc5064",
   "metadata": {},
   "outputs": [
    {
     "data": {
      "text/plain": [
       "'jakarta cnn indonesia dokter ryan thamrin yang terkenal lewat acara dokter oz indonesia meninggal dunia pada jumat 0 0 dini hari\\t\\t\\t0\\ndokter lula kamal yang merupakan selebriti sekaligus rekan kerja ryan menyebut kawannya itu sudah sakit sejak setahun yang lalu\\t\\t\\t1\\n\\nlula menuturkan sakit itu membuat ryan mesti vakum dari semua kegiatannya termasuk menjadi pembawa acara dokter oz indonesia\\t\\t\\t1\\nkondisi itu membuat ryan harus kembali ke kampung halamannya di pekanbaru riau untuk menjalani istirahat\\t\\t\\t1\\n\\nsetahu saya dia orangnya sehat tapi tahun lalu saya dengar dia sakit\\t\\t\\t0\\nkarena sakitnya ia langsung pulang ke pekanbaru jadi kami yang mau jenguk juga susah\\t\\t\\t0\\nbarangkali mau istirahat ya betul juga kalau di jakarta susah isirahatnya kata lula kepada cnnindonesia.com jumat 0 0\\t\\t\\t0\\n\\nlula yang mengenal ryan sejak sebelum aktif berkarier di televisi mengaku belum sempat membesuk ryan lantaran lokasi yang jauh\\t\\t\\t0\\ndia juga tak tahu penyakit apa yang diderita ryan\\t\\t\\t0\\n\\nitu saya enggak tahu belum sempat jenguk dan enggak selamanya bisa dijenguk juga\\t\\t\\t0\\nenggak tahu berat sekali apa bagaimana tutur ryan\\t\\t\\t0\\n\\nwalau sudah setahun menderita sakit lula tak mengetahui apa penyebab pasti kematian dr oz indonesia itu\\t\\t\\t0\\nmeski demikian ia mendengar beberapa kabar yang menyebut bahwa penyebab ryan meninggal adalah karena jatuh di kamar mandi\\t\\t\\t0\\n\\n“ saya tidak tahu barangkali penyakit yang dulu sama yang sekarang berbeda atau penyebab kematiannya beda dari penyakit sebelumnya\\t\\t\\t0\\nkita kan enggak bisa mengambil kesimpulan kata lula\\t\\t\\t0\\n\\nryan thamrin terkenal sebagai dokter yang rutin membagikan tips dan informasi kesehatan lewat tayangan dokter oz indonesia\\t\\t\\t0\\n\\nryan menempuh pendidikan dokter pada tahun 0000 di fakultas kedokteran universitas gadjah mada\\t\\t\\t0\\ndia kemudian melanjutkan pendidikan klinis kesehatan reproduksi dan penyakit menular seksual di mahachulalongkornrajavidyalaya university bangkok thailand pada 0000\\t\\t\\t0'"
      ]
     },
     "execution_count": 29,
     "metadata": {},
     "output_type": "execute_result"
    }
   ],
   "source": [
    "sst = str(results['results']['doc'][0])\n",
    "sst"
   ]
  },
  {
   "cell_type": "code",
   "execution_count": 30,
   "id": "842f2a19",
   "metadata": {},
   "outputs": [
    {
     "data": {
      "text/plain": [
       "'jakarta cnn indonesia dokter ryan thamrin terkenal acara dokter oz indonesia meninggal dunia jumat 0 0 hari\\t\\t\\t0\\ndokter lula kamal selebriti rekan ryan menyebut kawannya sakit setahun lalu\\t\\t\\t1\\n\\nlula sakit ryan mesti vakum kegiatannya pembawa acara dokter oz indonesia\\t\\t\\t1\\nkondisi ryan kampung halamannya pekanbaru riau menjalani istirahat\\t\\t\\t1\\n\\nsetahu orangnya sehat tahun dengar sakit\\t\\t\\t0\\nkarena sakitnya pulang pekanbaru jenguk susah\\t\\t\\t0\\nbarangkali istirahat jakarta susah isirahatnya lula cnnindonesia.com jumat 0 0\\t\\t\\t0\\n\\nlula mengenal ryan aktif berkarier televisi mengaku membesuk ryan lantaran lokasi jauh\\t\\t\\t0\\ndia penyakit diderita ryan\\t\\t\\t0\\n\\nitu jenguk dijenguk juga\\t\\t\\t0\\nenggak berat ryan\\t\\t\\t0\\n\\nwalau setahun menderita sakit lula penyebab kematian dr oz indonesia itu\\t\\t\\t0\\nmeski mendengar kabar menyebut penyebab ryan meninggal jatuh kamar mandi\\t\\t\\t0\\n\\n“ barangkali penyakit berbeda penyebab kematiannya beda penyakit sebelumnya\\t\\t\\t0\\nkita mengambil kesimpulan lula\\t\\t\\t0\\n\\nryan thamrin terkenal dokter rutin membagikan tips informasi kesehatan tayangan dokter oz indonesia\\t\\t\\t0\\n\\nryan menempuh pendidikan dokter tahun 0000 fakultas kedokteran universitas gadjah mada\\t\\t\\t0\\ndia melanjutkan pendidikan klinis kesehatan reproduksi penyakit menular seksual mahachulalongkornrajavidyalaya university bangkok thailand 0000\\t\\t\\t0'"
      ]
     },
     "execution_count": 30,
     "metadata": {},
     "output_type": "execute_result"
    }
   ],
   "source": [
    "sst = stopword.remove(sst)\n",
    "sst"
   ]
  },
  {
   "cell_type": "code",
   "execution_count": 31,
   "id": "46e276fa",
   "metadata": {},
   "outputs": [
    {
     "name": "stdout",
     "output_type": "stream",
     "text": [
      "ryan - 3.902280839094647\n",
      "dokter - 2.763444990221701\n",
      "penyakit - 2.6894028372435717\n",
      "lula - 2.4219163746247783\n",
      "indonesia - 1.994772952979202\n",
      "sakit - 1.9103297606962983\n",
      "penyebab - 1.8647831972711475\n",
      "oz - 1.7373896464494134\n",
      "tahun - 1.4682715390313255\n",
      "dia - 1.4635207031770245\n",
      "kesehatan - 1.4429233589602886\n",
      "pekanbaru - 1.4073040620975923\n"
     ]
    }
   ],
   "source": [
    "getKeywords(sst, n=10)"
   ]
  },
  {
   "cell_type": "code",
   "execution_count": null,
   "id": "e9c85f8d",
   "metadata": {},
   "outputs": [],
   "source": []
  }
 ],
 "metadata": {
  "kernelspec": {
   "display_name": "Python 3 (ipykernel)",
   "language": "python",
   "name": "python3"
  },
  "language_info": {
   "codemirror_mode": {
    "name": "ipython",
    "version": 3
   },
   "file_extension": ".py",
   "mimetype": "text/x-python",
   "name": "python",
   "nbconvert_exporter": "python",
   "pygments_lexer": "ipython3",
   "version": "3.9.7"
  }
 },
 "nbformat": 4,
 "nbformat_minor": 5
}
